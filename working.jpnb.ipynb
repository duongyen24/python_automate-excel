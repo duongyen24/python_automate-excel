{
 "cells": [
  {
   "cell_type": "code",
   "execution_count": 5,
   "source": [
    "from openpyxl import Workbook, load_workbook\r\n",
    "from openpyxl.utils import get_column_letter"
   ],
   "outputs": [],
   "metadata": {}
  },
  {
   "cell_type": "code",
   "execution_count": 3,
   "source": [
    "wb = load_workbook('demo.xlsx')\r\n",
    "ws = wb.active\r\n",
    "print(ws['C11'].value)\r\n",
    "#ws['H1'] = 'test'\r\n",
    "#wb.save('demo.xlsx')\r\n"
   ],
   "outputs": [
    {
     "output_type": "stream",
     "name": "stdout",
     "text": [
      "None\n"
     ]
    }
   ],
   "metadata": {}
  },
  {
   "cell_type": "code",
   "execution_count": 4,
   "source": [
    "# create sheet\r\n",
    "wb.create_sheet('test')\r\n",
    "wb.save('demo.xlsx')\r\n",
    "print(wb.sheetnames)"
   ],
   "outputs": [
    {
     "output_type": "stream",
     "name": "stdout",
     "text": [
      "['Sheet1', 'Sheet2', 'Sheet3', 'test', 'test1', 'test2']\n"
     ]
    }
   ],
   "metadata": {}
  },
  {
   "cell_type": "code",
   "execution_count": 4,
   "source": [
    "wb = Workbook()\r\n",
    "ws = wb.active\r\n",
    "ws.title = 'Data'\r\n",
    "ws.append(['yen', 'is', 'great'])\r\n",
    "ws.append(['end'])\r\n",
    "\r\n",
    "wb.save('yen.xlsx')"
   ],
   "outputs": [],
   "metadata": {}
  },
  {
   "cell_type": "code",
   "execution_count": 10,
   "source": [
    "wb = load_workbook('yen.xlsx')\r\n",
    "ws = wb.active\r\n",
    "for row in range(1,3):\r\n",
    "\tfor col in range(1,5):\r\n",
    "\t\tchar = get_column_letter(col)\r\n",
    "\t\tprint(ws[char+str(row)].value)"
   ],
   "outputs": [
    {
     "output_type": "stream",
     "name": "stdout",
     "text": [
      "yen\n",
      "is\n",
      "great\n",
      "None\n",
      "end\n",
      "None\n",
      "None\n",
      "None\n"
     ]
    }
   ],
   "metadata": {}
  },
  {
   "cell_type": "code",
   "execution_count": null,
   "source": [],
   "outputs": [],
   "metadata": {}
  }
 ],
 "metadata": {
  "orig_nbformat": 4,
  "language_info": {
   "name": "python",
   "version": "3.8.8",
   "mimetype": "text/x-python",
   "codemirror_mode": {
    "name": "ipython",
    "version": 3
   },
   "pygments_lexer": "ipython3",
   "nbconvert_exporter": "python",
   "file_extension": ".py"
  },
  "kernelspec": {
   "name": "python3",
   "display_name": "Python 3.8.8 64-bit ('base': conda)"
  },
  "interpreter": {
   "hash": "1343dd182ee7a925c2fcdd0e3ab758702907cd8a361f6a4fcb95586f1f6081c2"
  }
 },
 "nbformat": 4,
 "nbformat_minor": 2
}